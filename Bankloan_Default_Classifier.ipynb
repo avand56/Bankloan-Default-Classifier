{
 "cells": [
  {
   "cell_type": "markdown",
   "metadata": {},
   "source": [
    "# Bankloan default classifier"
   ]
  },
  {
   "cell_type": "markdown",
   "metadata": {},
   "source": [
    "This classifier uses a weak learner boosted classifier and random forest classifier to predict whether a bank customer defaulted on their loan or not."
   ]
  },
  {
   "cell_type": "code",
   "execution_count": 18,
   "metadata": {},
   "outputs": [],
   "source": [
    "import numpy as np\n",
    "import matplotlib.pyplot as plt\n",
    "import matplotlib as mpl\n",
    "import seaborn as sns\n",
    "from sklearn.tree import DecisionTreeClassifier, DecisionTreeRegressor, export_graphviz\n",
    "from sklearn.ensemble import BaggingClassifier, RandomForestClassifier, BaggingRegressor, RandomForestRegressor\n",
    "from sklearn.datasets import make_classification\n",
    "from sklearn.model_selection import GridSearchCV, train_test_split\n",
    "from sklearn.metrics import accuracy_score, roc_auc_score, confusion_matrix, roc_curve\n",
    "from IPython.display import Image\n",
    "import pandas as pd\n",
    "from functools import reduce\n",
    "from xgboost import XGBClassifier\n",
    "import gdown\n",
    "\n",
    "import pydotplus\n",
    "from tqdm import tqdm\n",
    "\n",
    "# Plot inline\n",
    "%matplotlib inline"
   ]
  },
  {
   "cell_type": "code",
   "execution_count": 19,
   "metadata": {},
   "outputs": [],
   "source": [
    "#Define the classifier\n",
    "bankloan_rf = RandomForestClassifier(n_estimators=1000, \n",
    "                       criterion='gini', \n",
    "                       max_depth=None,\n",
    "                       min_samples_split=2, \n",
    "                       min_samples_leaf=0.001, \n",
    "                       min_weight_fraction_leaf=0.0, \n",
    "                       max_features='auto', \n",
    "                       max_leaf_nodes=None,\n",
    "                       min_impurity_decrease=0.0001,\n",
    "                       bootstrap=True, \n",
    "                       oob_score=True,  \n",
    "                       n_jobs=-1, \n",
    "                       random_state=20190305, # Seed\n",
    "                       verbose=1, \n",
    "                       warm_start=False, \n",
    "                       class_weight='balanced'\n",
    "                                    )"
   ]
  },
  {
   "cell_type": "code",
   "execution_count": 3,
   "metadata": {},
   "outputs": [
    {
     "name": "stderr",
     "output_type": "stream",
     "text": [
      "Downloading...\n",
      "From: https://drive.google.com/uc?id=1-RiFAF4zU27N9MnoSYUlNuqFhR3VcuWs\n",
      "To: C:\\Users\\avand\\OneDrive\\Desktop\\udemy data science\\BankloanClean.pkl\n",
      "100%|████████████████████████████████████████████████████████████████████████████████| 135k/135k [00:00<00:00, 676kB/s]\n"
     ]
    }
   ],
   "source": [
    "# Import the dataset from a shared Google Drive link \n",
    "url = 'https://drive.google.com/uc?id=1-RiFAF4zU27N9MnoSYUlNuqFhR3VcuWs'\n",
    "output = 'BankloanClean.pkl'\n",
    "gdown.download(url, output, quiet = False)\n",
    "\n",
    "# Read from the file we just got.\n",
    "bankloan_data = pd.read_pickle('BankloanClean.pkl')\n",
    "\n",
    "# Drop a categorical variable\n",
    "bankloan_data.drop('Education', inplace = True, axis = 1)"
   ]
  },
  {
   "cell_type": "code",
   "execution_count": 4,
   "metadata": {},
   "outputs": [
    {
     "data": {
      "text/html": [
       "<div>\n",
       "<style scoped>\n",
       "    .dataframe tbody tr th:only-of-type {\n",
       "        vertical-align: middle;\n",
       "    }\n",
       "\n",
       "    .dataframe tbody tr th {\n",
       "        vertical-align: top;\n",
       "    }\n",
       "\n",
       "    .dataframe thead th {\n",
       "        text-align: right;\n",
       "    }\n",
       "</style>\n",
       "<table border=\"1\" class=\"dataframe\">\n",
       "  <thead>\n",
       "    <tr style=\"text-align: right;\">\n",
       "      <th></th>\n",
       "      <th>customer</th>\n",
       "      <th>Age</th>\n",
       "      <th>Employ</th>\n",
       "      <th>Address</th>\n",
       "      <th>Income</th>\n",
       "      <th>Leverage</th>\n",
       "      <th>Creddebt</th>\n",
       "      <th>OthDebt</th>\n",
       "      <th>MonthlyLoad</th>\n",
       "      <th>Default</th>\n",
       "    </tr>\n",
       "  </thead>\n",
       "  <tbody>\n",
       "    <tr>\n",
       "      <th>count</th>\n",
       "      <td>1489.000000</td>\n",
       "      <td>1489.000000</td>\n",
       "      <td>1489.000000</td>\n",
       "      <td>1489.000000</td>\n",
       "      <td>1489.000000</td>\n",
       "      <td>1489.000000</td>\n",
       "      <td>1489.000000</td>\n",
       "      <td>1489.000000</td>\n",
       "      <td>1489.000000</td>\n",
       "      <td>1489.000000</td>\n",
       "    </tr>\n",
       "    <tr>\n",
       "      <th>mean</th>\n",
       "      <td>257649.480188</td>\n",
       "      <td>34.003358</td>\n",
       "      <td>6.799866</td>\n",
       "      <td>6.233714</td>\n",
       "      <td>56.898590</td>\n",
       "      <td>9.904835</td>\n",
       "      <td>1.801370</td>\n",
       "      <td>3.664231</td>\n",
       "      <td>0.366850</td>\n",
       "      <td>0.361988</td>\n",
       "    </tr>\n",
       "    <tr>\n",
       "      <th>std</th>\n",
       "      <td>139646.983244</td>\n",
       "      <td>12.982437</td>\n",
       "      <td>8.765093</td>\n",
       "      <td>5.987928</td>\n",
       "      <td>55.062182</td>\n",
       "      <td>6.649132</td>\n",
       "      <td>2.340326</td>\n",
       "      <td>4.665854</td>\n",
       "      <td>0.294387</td>\n",
       "      <td>0.480737</td>\n",
       "    </tr>\n",
       "    <tr>\n",
       "      <th>min</th>\n",
       "      <td>10012.000000</td>\n",
       "      <td>18.000000</td>\n",
       "      <td>0.000000</td>\n",
       "      <td>0.000000</td>\n",
       "      <td>12.000000</td>\n",
       "      <td>0.000000</td>\n",
       "      <td>0.000000</td>\n",
       "      <td>0.000000</td>\n",
       "      <td>0.000000</td>\n",
       "      <td>0.000000</td>\n",
       "    </tr>\n",
       "    <tr>\n",
       "      <th>25%</th>\n",
       "      <td>98410.000000</td>\n",
       "      <td>24.000000</td>\n",
       "      <td>0.000000</td>\n",
       "      <td>2.000000</td>\n",
       "      <td>27.000000</td>\n",
       "      <td>4.800000</td>\n",
       "      <td>0.420000</td>\n",
       "      <td>1.100000</td>\n",
       "      <td>0.150000</td>\n",
       "      <td>0.000000</td>\n",
       "    </tr>\n",
       "    <tr>\n",
       "      <th>50%</th>\n",
       "      <td>316013.000000</td>\n",
       "      <td>31.000000</td>\n",
       "      <td>4.000000</td>\n",
       "      <td>5.000000</td>\n",
       "      <td>39.000000</td>\n",
       "      <td>8.500000</td>\n",
       "      <td>0.980000</td>\n",
       "      <td>2.200000</td>\n",
       "      <td>0.290000</td>\n",
       "      <td>0.000000</td>\n",
       "    </tr>\n",
       "    <tr>\n",
       "      <th>75%</th>\n",
       "      <td>370695.000000</td>\n",
       "      <td>41.000000</td>\n",
       "      <td>10.000000</td>\n",
       "      <td>9.000000</td>\n",
       "      <td>63.000000</td>\n",
       "      <td>13.500000</td>\n",
       "      <td>2.170000</td>\n",
       "      <td>4.500000</td>\n",
       "      <td>0.500000</td>\n",
       "      <td>1.000000</td>\n",
       "    </tr>\n",
       "    <tr>\n",
       "      <th>max</th>\n",
       "      <td>453777.000000</td>\n",
       "      <td>79.000000</td>\n",
       "      <td>63.000000</td>\n",
       "      <td>34.000000</td>\n",
       "      <td>533.000000</td>\n",
       "      <td>40.700000</td>\n",
       "      <td>19.050000</td>\n",
       "      <td>52.650000</td>\n",
       "      <td>2.150000</td>\n",
       "      <td>1.000000</td>\n",
       "    </tr>\n",
       "  </tbody>\n",
       "</table>\n",
       "</div>"
      ],
      "text/plain": [
       "            customer          Age       Employ      Address       Income  \\\n",
       "count    1489.000000  1489.000000  1489.000000  1489.000000  1489.000000   \n",
       "mean   257649.480188    34.003358     6.799866     6.233714    56.898590   \n",
       "std    139646.983244    12.982437     8.765093     5.987928    55.062182   \n",
       "min     10012.000000    18.000000     0.000000     0.000000    12.000000   \n",
       "25%     98410.000000    24.000000     0.000000     2.000000    27.000000   \n",
       "50%    316013.000000    31.000000     4.000000     5.000000    39.000000   \n",
       "75%    370695.000000    41.000000    10.000000     9.000000    63.000000   \n",
       "max    453777.000000    79.000000    63.000000    34.000000   533.000000   \n",
       "\n",
       "          Leverage     Creddebt      OthDebt  MonthlyLoad      Default  \n",
       "count  1489.000000  1489.000000  1489.000000  1489.000000  1489.000000  \n",
       "mean      9.904835     1.801370     3.664231     0.366850     0.361988  \n",
       "std       6.649132     2.340326     4.665854     0.294387     0.480737  \n",
       "min       0.000000     0.000000     0.000000     0.000000     0.000000  \n",
       "25%       4.800000     0.420000     1.100000     0.150000     0.000000  \n",
       "50%       8.500000     0.980000     2.200000     0.290000     0.000000  \n",
       "75%      13.500000     2.170000     4.500000     0.500000     1.000000  \n",
       "max      40.700000    19.050000    52.650000     2.150000     1.000000  "
      ]
     },
     "execution_count": 4,
     "metadata": {},
     "output_type": "execute_result"
    }
   ],
   "source": [
    "bankloan_data.describe()"
   ]
  },
  {
   "cell_type": "code",
   "execution_count": 5,
   "metadata": {},
   "outputs": [
    {
     "name": "stderr",
     "output_type": "stream",
     "text": [
      "[Parallel(n_jobs=-1)]: Using backend ThreadingBackend with 8 concurrent workers.\n",
      "[Parallel(n_jobs=-1)]: Done  34 tasks      | elapsed:    0.0s\n",
      "[Parallel(n_jobs=-1)]: Done 184 tasks      | elapsed:    0.5s\n",
      "[Parallel(n_jobs=-1)]: Done 434 tasks      | elapsed:    1.0s\n",
      "[Parallel(n_jobs=-1)]: Done 784 tasks      | elapsed:    1.6s\n",
      "[Parallel(n_jobs=-1)]: Done 1000 out of 1000 | elapsed:    2.0s finished\n"
     ]
    },
    {
     "data": {
      "text/plain": [
       "RandomForestClassifier(class_weight='balanced', min_impurity_decrease=0.0001,\n",
       "                       min_samples_leaf=0.001, n_estimators=1000, n_jobs=-1,\n",
       "                       oob_score=True, random_state=20190305, verbose=1)"
      ]
     },
     "execution_count": 5,
     "metadata": {},
     "output_type": "execute_result"
    }
   ],
   "source": [
    "# Split into train and test, fixing seed.\n",
    "bankloan_train_noWoE, bankloan_test_noWoE = train_test_split(bankloan_data.iloc[:, 1:], # Data \n",
    "                                                             test_size = 0.3,           # Size of test\n",
    "                                                             random_state = 20201107)   # Seed\n",
    "\n",
    "# Train the RF.\n",
    "bankloan_rf.fit(bankloan_train_noWoE.iloc[:,:-1], \n",
    "               bankloan_train_noWoE['Default'])"
   ]
  },
  {
   "cell_type": "code",
   "execution_count": 6,
   "metadata": {},
   "outputs": [
    {
     "name": "stderr",
     "output_type": "stream",
     "text": [
      "[Parallel(n_jobs=8)]: Using backend ThreadingBackend with 8 concurrent workers.\n",
      "[Parallel(n_jobs=8)]: Done  34 tasks      | elapsed:    0.0s\n",
      "[Parallel(n_jobs=8)]: Done 184 tasks      | elapsed:    0.0s\n",
      "[Parallel(n_jobs=8)]: Done 434 tasks      | elapsed:    0.0s\n",
      "[Parallel(n_jobs=8)]: Done 784 tasks      | elapsed:    0.2s\n",
      "[Parallel(n_jobs=8)]: Done 1000 out of 1000 | elapsed:    0.2s finished\n",
      "[Parallel(n_jobs=8)]: Using backend ThreadingBackend with 8 concurrent workers.\n",
      "[Parallel(n_jobs=8)]: Done  34 tasks      | elapsed:    0.0s\n",
      "[Parallel(n_jobs=8)]: Done 184 tasks      | elapsed:    0.0s\n",
      "[Parallel(n_jobs=8)]: Done 434 tasks      | elapsed:    0.1s\n",
      "[Parallel(n_jobs=8)]: Done 784 tasks      | elapsed:    0.2s\n",
      "[Parallel(n_jobs=8)]: Done 1000 out of 1000 | elapsed:    0.2s finished\n"
     ]
    }
   ],
   "source": [
    "# Apply the model to the test set.\n",
    "rf_pred_class_test = bankloan_rf.predict(bankloan_test_noWoE.iloc[:, :-1])\n",
    "rf_probs_test = bankloan_rf.predict_proba(bankloan_test_noWoE.iloc[:, :-1])"
   ]
  },
  {
   "cell_type": "code",
   "execution_count": 7,
   "metadata": {},
   "outputs": [
    {
     "data": {
      "image/png": "[encoded data removed]",
      "text/plain": [
       "<Figure size 720x504 with 2 Axes>"
      ]
     },
     "metadata": {
      "needs_background": "light"
     },
     "output_type": "display_data"
    }
   ],
   "source": [
    "# Calculate confusion matrix\n",
    "confusion_matrix_rf = confusion_matrix(y_true = bankloan_test_noWoE['Default'], \n",
    "                    y_pred = rf_pred_class_test)\n",
    "\n",
    "# Turn matrix to percentages\n",
    "confusion_matrix_rf = confusion_matrix_rf.astype('float') / confusion_matrix_rf.sum(axis=1)[:, np.newaxis]\n",
    "\n",
    "# Turn to dataframe\n",
    "df_cm = pd.DataFrame(\n",
    "        confusion_matrix_rf, index=['good', 'bad'], columns=['good', 'bad'], \n",
    ")\n",
    "\n",
    "# Parameters of the image\n",
    "figsize = (10,7)\n",
    "fontsize=14\n",
    "\n",
    "# Create image\n",
    "fig = plt.figure(figsize=figsize)\n",
    "heatmap = sns.heatmap(df_cm, annot=True, fmt='.2f')\n",
    "heatmap.yaxis.set_ticklabels(heatmap.yaxis.get_ticklabels(), rotation=0, \n",
    "                             ha='right', fontsize=fontsize)\n",
    "heatmap.xaxis.set_ticklabels(heatmap.xaxis.get_ticklabels(), rotation=45,\n",
    "                             ha='right', fontsize=fontsize)\n",
    "\n",
    "plt.ylabel('True label')\n",
    "plt.xlabel('Predicted label')\n",
    "plt.show()"
   ]
  },
  {
   "cell_type": "code",
   "execution_count": 8,
   "metadata": {},
   "outputs": [
    {
     "data": {
      "image/png": "[encoded data removed]",
      "text/plain": [
       "<Figure size 432x288 with 1 Axes>"
      ]
     },
     "metadata": {
      "needs_background": "light"
     },
     "output_type": "display_data"
    }
   ],
   "source": [
    "# Calculate the ROC curve points\n",
    "fpr, tpr, thresholds = roc_curve(bankloan_test_noWoE['Default'], rf_probs_test[:,1])\n",
    "\n",
    "\n",
    "auc = np.round(roc_auc_score(y_true = bankloan_test_noWoE['Default'], \n",
    "                             y_score = rf_probs_test[:,1]),\n",
    "              decimals = 3)\n",
    "\n",
    "# Create and show the plot\n",
    "plt.plot(fpr,tpr,label=\"Bankloan RF, auc=\"+str(auc))\n",
    "plt.legend(loc=4)\n",
    "plt.show()"
   ]
  },
  {
   "cell_type": "code",
   "execution_count": 9,
   "metadata": {},
   "outputs": [
    {
     "data": {
      "image/png": "[encoded data removed]",
      "text/plain": [
       "<Figure size 216x576 with 1 Axes>"
      ]
     },
     "metadata": {
      "needs_background": "light"
     },
     "output_type": "display_data"
    }
   ],
   "source": [
    "# Plot variable importance\n",
    "importances = bankloan_rf.feature_importances_\n",
    "indices = np.argsort(importances)[::-1] \n",
    "\n",
    "f, ax = plt.subplots(figsize=(3, 8))\n",
    "plt.title(\"Variable Importance - Random Forest\")\n",
    "sns.set_color_codes(\"pastel\")\n",
    "sns.barplot(y=[bankloan_train_noWoE.iloc[:, :-1].columns[i] for i in indices], x=importances[indices], \n",
    "            label=\"Total\", color=\"b\")\n",
    "ax.set(ylabel=\"Variable\",\n",
    "       xlabel=\"Variable Importance (Gini)\")\n",
    "sns.despine(left=True, bottom=True)"
   ]
  },
  {
   "cell_type": "code",
   "execution_count": 10,
   "metadata": {},
   "outputs": [],
   "source": [
    "#Define the classifier.\n",
    "XGB_Bankloan = XGBClassifier(max_depth=3,                 \n",
    "                            learning_rate=0.1,            \n",
    "                            n_estimators=100,             \n",
    "                            verbosity=1,                  \n",
    "                            objective='binary:logistic',  \n",
    "                            booster='gbtree',             \n",
    "                            n_jobs=2,                     \n",
    "                            gamma=0.001,                   \n",
    "                            subsample=1,                  \n",
    "                            colsample_bytree=1,           \n",
    "                            colsample_bylevel=1,          \n",
    "                            colsample_bynode=1,           \n",
    "                            reg_alpha=1,                  \n",
    "                            reg_lambda=0,                 \n",
    "                            scale_pos_weight=1,           \n",
    "                            base_score=0.5,               \n",
    "                            random_state=20201107,        \n",
    "                            missing=None                  \n",
    "                            )"
   ]
  },
  {
   "cell_type": "code",
   "execution_count": 11,
   "metadata": {},
   "outputs": [],
   "source": [
    "# Define the parameters\n",
    "param_grid = dict({'n_estimators': [50, 100, 150],\n",
    "                   'max_depth': [2, 3],\n",
    "                 'learning_rate' : [0.001, 0.01, 0.1]\n",
    "                  })\n",
    "\n",
    "\n",
    "val_train = bankloan_train_noWoE.sample(frac = 0.3,random_state = 20201107)"
   ]
  },
  {
   "cell_type": "code",
   "execution_count": 12,
   "metadata": {},
   "outputs": [],
   "source": [
    "# Define grid search object.\n",
    "GridXGB = GridSearchCV(XGB_Bankloan,         \n",
    "                       param_grid,          \n",
    "                       cv = 3,               \n",
    "                       scoring = 'roc_auc', \n",
    "                       n_jobs = -1,         \n",
    "                       refit = False,       \n",
    "                       verbose = 1          \n",
    "                      )"
   ]
  },
  {
   "cell_type": "code",
   "execution_count": 13,
   "metadata": {},
   "outputs": [
    {
     "name": "stdout",
     "output_type": "stream",
     "text": [
      "Fitting 3 folds for each of 18 candidates, totalling 54 fits\n"
     ]
    },
    {
     "data": {
      "text/plain": [
       "GridSearchCV(cv=3,\n",
       "             estimator=XGBClassifier(gamma=0.001, n_jobs=2,\n",
       "                                     random_state=20201107, reg_alpha=1,\n",
       "                                     reg_lambda=0),\n",
       "             n_jobs=-1,\n",
       "             param_grid={'learning_rate': [0.001, 0.01, 0.1],\n",
       "                         'max_depth': [2, 3], 'n_estimators': [50, 100, 150]},\n",
       "             refit=False, scoring='roc_auc', verbose=1)"
      ]
     },
     "execution_count": 13,
     "metadata": {},
     "output_type": "execute_result"
    }
   ],
   "source": [
    "# Train grid search.\n",
    "GridXGB.fit(val_train.iloc[:, :-1], val_train['Default'])"
   ]
  },
  {
   "cell_type": "code",
   "execution_count": 14,
   "metadata": {},
   "outputs": [],
   "source": [
    "# Create XGB with best parameters.\n",
    "XGB_Bankloan = XGBClassifier(max_depth=GridXGB.best_params_.get('max_depth'), \n",
    "                            learning_rate=GridXGB.best_params_.get('learning_rate'), \n",
    "                            n_estimators=GridXGB.best_params_.get('n_estimators'), \n",
    "                            verbosity=1,                  \n",
    "                            objective='binary:logistic',  \n",
    "                            booster='gbtree',             \n",
    "                            n_jobs=2,                     \n",
    "                            gamma=0.001,                  \n",
    "                            subsample=1,                  \n",
    "                            colsample_bytree=1,           \n",
    "                            colsample_bylevel=1,          \n",
    "                            colsample_bynode=1,           \n",
    "                            reg_alpha=1,                  \n",
    "                            reg_lambda=0,                 \n",
    "                            scale_pos_weight=1,           \n",
    "                            base_score=0.5,               \n",
    "                            random_state=20201107,        \n",
    "                            missing=None                 \n",
    "                            )"
   ]
  },
  {
   "cell_type": "code",
   "execution_count": 15,
   "metadata": {},
   "outputs": [
    {
     "data": {
      "text/plain": [
       "XGBClassifier(gamma=0.001, n_jobs=2, random_state=20201107, reg_alpha=1,\n",
       "              reg_lambda=0)"
      ]
     },
     "execution_count": 15,
     "metadata": {},
     "output_type": "execute_result"
    }
   ],
   "source": [
    "# Train over all training data.\n",
    "XGB_Bankloan.fit(bankloan_train_noWoE.iloc[:, :-1], bankloan_train_noWoE['Default'])"
   ]
  },
  {
   "cell_type": "code",
   "execution_count": 16,
   "metadata": {},
   "outputs": [
    {
     "name": "stdout",
     "output_type": "stream",
     "text": [
      "[0.2918725  0.19474274 0.14345832 0.12008458 0.09886264 0.06032611\n",
      " 0.04905848 0.04159461]\n",
      "['MonthlyLoad', 'Employ', 'Creddebt', 'Leverage', 'Age', 'Address', 'OthDebt', 'Income']\n"
     ]
    },
    {
     "data": {
      "image/png": "[encoded data removed]",
      "text/plain": [
       "<Figure size 216x576 with 1 Axes>"
      ]
     },
     "metadata": {
      "needs_background": "light"
     },
     "output_type": "display_data"
    }
   ],
   "source": [
    "# Plot variable importance\n",
    "importances = XGB_Bankloan.feature_importances_\n",
    "indices = np.argsort(importances)[::-1] \n",
    "print(importances[indices])\n",
    "y=[bankloan_train_noWoE.iloc[:, :-1].columns[i] for i in indices]\n",
    "print(y)\n",
    "f, ax = plt.subplots(figsize=(3, 8))\n",
    "plt.title(\"Variable Importance - XGBoosting\")\n",
    "sns.set_color_codes(\"pastel\")\n",
    "sns.barplot(y=[bankloan_train_noWoE.iloc[:, :-1].columns[i] for i in indices], x=importances[indices], \n",
    "            label=\"Total\", color=\"b\")\n",
    "ax.set(ylabel=\"Variable\",\n",
    "       xlabel=\"Variable Importance (Gini)\")\n",
    "sns.despine(left=True, bottom=True)"
   ]
  },
  {
   "cell_type": "code",
   "execution_count": 17,
   "metadata": {},
   "outputs": [
    {
     "data": {
      "image/png": "[encoded data removed]",
      "text/plain": [
       "<Figure size 432x288 with 1 Axes>"
      ]
     },
     "metadata": {
      "needs_background": "light"
     },
     "output_type": "display_data"
    }
   ],
   "source": [
    "# Calculate probability\n",
    "probTest = XGB_Bankloan.predict_proba(bankloan_test_noWoE.iloc[:, :-1])\n",
    "probTest = probTest[:, 1]\n",
    "\n",
    "# Calculate the ROC curve points\n",
    "fpr, tpr, thresholds = roc_curve(bankloan_test_noWoE['Default'], \n",
    "                                 probTest)\n",
    "\n",
    "# Save the AUC in a variable to display it. Round it first\n",
    "auc = np.round(roc_auc_score(y_true = bankloan_test_noWoE['Default'], \n",
    "                             y_score = probTest),\n",
    "               decimals = 3)\n",
    "\n",
    "# Create and show the plot\n",
    "plt.plot(fpr,tpr,label=\"AUC - XGBoosting = \" + str(auc))\n",
    "plt.legend(loc=4)\n",
    "plt.show()"
   ]
  },
  {
   "cell_type": "code",
   "execution_count": null,
   "metadata": {},
   "outputs": [],
   "source": []
  }
 ],
 "metadata": {
  "kernelspec": {
   "display_name": "Python [conda env:anaconda3-Data_sci]",
   "language": "python",
   "name": "conda-env-anaconda3-Data_sci-py"
  },
  "language_info": {
   "codemirror_mode": {
    "name": "ipython",
    "version": 3
   },
   "file_extension": ".py",
   "mimetype": "text/x-python",
   "name": "python",
   "nbconvert_exporter": "python",
   "pygments_lexer": "ipython3",
   "version": "3.6.12"
  }
 },
 "nbformat": 4,
 "nbformat_minor": 4
}
